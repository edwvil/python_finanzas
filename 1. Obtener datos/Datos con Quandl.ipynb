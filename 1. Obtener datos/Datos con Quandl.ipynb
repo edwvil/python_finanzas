{
 "cells": [
  {
   "cell_type": "markdown",
   "metadata": {},
   "source": [
    "# OBTENER DATOS DE QUANDL"
   ]
  },
  {
   "cell_type": "code",
   "execution_count": null,
   "metadata": {},
   "outputs": [],
   "source": [
    "#!conda install quandl"
   ]
  },
  {
   "cell_type": "code",
   "execution_count": null,
   "metadata": {},
   "outputs": [],
   "source": [
    "#!pip install urllib3\n"
   ]
  },
  {
   "cell_type": "code",
   "execution_count": 1,
   "metadata": {},
   "outputs": [],
   "source": [
    "import quandl"
   ]
  },
  {
   "cell_type": "markdown",
   "metadata": {},
   "source": [
    "Quandl es una base de datos que contiene información gratis y con pago.  Se debe realizar una inscripción en su pagina para descargar los datos desde Python."
   ]
  },
  {
   "cell_type": "markdown",
   "metadata": {},
   "source": [
    "## Obteniendo datos de a bolsa de Honkong"
   ]
  },
  {
   "cell_type": "code",
   "execution_count": 6,
   "metadata": {},
   "outputs": [],
   "source": [
    "data = quandl.get(\"HKEX/58506\", authtoken=\"cFoxqYbXx2DmK9Y3KJkn\")\n",
    "#HKEX/58506 es la bolsa de honkong y el ticker: 58506 que corresponde a Rp1904i"
   ]
  },
  {
   "cell_type": "code",
   "execution_count": 5,
   "metadata": {},
   "outputs": [
    {
     "data": {
      "text/html": [
       "<div>\n",
       "<style>\n",
       "    .dataframe thead tr:only-child th {\n",
       "        text-align: right;\n",
       "    }\n",
       "\n",
       "    .dataframe thead th {\n",
       "        text-align: left;\n",
       "    }\n",
       "\n",
       "    .dataframe tbody tr th {\n",
       "        vertical-align: top;\n",
       "    }\n",
       "</style>\n",
       "<table border=\"1\" class=\"dataframe\">\n",
       "  <thead>\n",
       "    <tr style=\"text-align: right;\">\n",
       "      <th></th>\n",
       "      <th>Nominal Price</th>\n",
       "      <th>Net Change</th>\n",
       "      <th>Change (%)</th>\n",
       "      <th>Bid</th>\n",
       "      <th>Ask</th>\n",
       "      <th>P/E(x)</th>\n",
       "      <th>High</th>\n",
       "      <th>Low</th>\n",
       "      <th>Previous Close</th>\n",
       "      <th>Share Volume (000)</th>\n",
       "      <th>Turnover (000)</th>\n",
       "      <th>Lot Size</th>\n",
       "    </tr>\n",
       "    <tr>\n",
       "      <th>Date</th>\n",
       "      <th></th>\n",
       "      <th></th>\n",
       "      <th></th>\n",
       "      <th></th>\n",
       "      <th></th>\n",
       "      <th></th>\n",
       "      <th></th>\n",
       "      <th></th>\n",
       "      <th></th>\n",
       "      <th></th>\n",
       "      <th></th>\n",
       "      <th></th>\n",
       "    </tr>\n",
       "  </thead>\n",
       "  <tbody>\n",
       "    <tr>\n",
       "      <th>2018-12-12</th>\n",
       "      <td>0.090</td>\n",
       "      <td>None</td>\n",
       "      <td>None</td>\n",
       "      <td>0.088</td>\n",
       "      <td>0.090</td>\n",
       "      <td>None</td>\n",
       "      <td>0.096</td>\n",
       "      <td>0.084</td>\n",
       "      <td>NaN</td>\n",
       "      <td>38540.0</td>\n",
       "      <td>3538.0</td>\n",
       "      <td>None</td>\n",
       "    </tr>\n",
       "    <tr>\n",
       "      <th>2018-12-13</th>\n",
       "      <td>0.055</td>\n",
       "      <td>None</td>\n",
       "      <td>None</td>\n",
       "      <td>0.053</td>\n",
       "      <td>0.054</td>\n",
       "      <td>None</td>\n",
       "      <td>0.075</td>\n",
       "      <td>0.050</td>\n",
       "      <td>0.090</td>\n",
       "      <td>198320.0</td>\n",
       "      <td>11786.0</td>\n",
       "      <td>None</td>\n",
       "    </tr>\n",
       "    <tr>\n",
       "      <th>2018-12-14</th>\n",
       "      <td>0.101</td>\n",
       "      <td>None</td>\n",
       "      <td>None</td>\n",
       "      <td>0.101</td>\n",
       "      <td>0.102</td>\n",
       "      <td>None</td>\n",
       "      <td>0.104</td>\n",
       "      <td>0.095</td>\n",
       "      <td>0.055</td>\n",
       "      <td>17310.0</td>\n",
       "      <td>1709.0</td>\n",
       "      <td>None</td>\n",
       "    </tr>\n",
       "    <tr>\n",
       "      <th>2018-12-17</th>\n",
       "      <td>0.092</td>\n",
       "      <td>None</td>\n",
       "      <td>None</td>\n",
       "      <td>0.092</td>\n",
       "      <td>0.094</td>\n",
       "      <td>None</td>\n",
       "      <td>0.104</td>\n",
       "      <td>0.087</td>\n",
       "      <td>0.101</td>\n",
       "      <td>32800.0</td>\n",
       "      <td>3028.0</td>\n",
       "      <td>None</td>\n",
       "    </tr>\n",
       "    <tr>\n",
       "      <th>2018-12-18</th>\n",
       "      <td>0.119</td>\n",
       "      <td>None</td>\n",
       "      <td>None</td>\n",
       "      <td>0.119</td>\n",
       "      <td>0.120</td>\n",
       "      <td>None</td>\n",
       "      <td>0.134</td>\n",
       "      <td>0.090</td>\n",
       "      <td>0.092</td>\n",
       "      <td>3130.0</td>\n",
       "      <td>328.0</td>\n",
       "      <td>None</td>\n",
       "    </tr>\n",
       "  </tbody>\n",
       "</table>\n",
       "</div>"
      ],
      "text/plain": [
       "            Nominal Price Net Change Change (%)    Bid    Ask P/E(x)   High  \\\n",
       "Date                                                                          \n",
       "2018-12-12          0.090       None       None  0.088  0.090   None  0.096   \n",
       "2018-12-13          0.055       None       None  0.053  0.054   None  0.075   \n",
       "2018-12-14          0.101       None       None  0.101  0.102   None  0.104   \n",
       "2018-12-17          0.092       None       None  0.092  0.094   None  0.104   \n",
       "2018-12-18          0.119       None       None  0.119  0.120   None  0.134   \n",
       "\n",
       "              Low  Previous Close  Share Volume (000)  Turnover (000) Lot Size  \n",
       "Date                                                                            \n",
       "2018-12-12  0.084             NaN             38540.0          3538.0     None  \n",
       "2018-12-13  0.050           0.090            198320.0         11786.0     None  \n",
       "2018-12-14  0.095           0.055             17310.0          1709.0     None  \n",
       "2018-12-17  0.087           0.101             32800.0          3028.0     None  \n",
       "2018-12-18  0.090           0.092              3130.0           328.0     None  "
      ]
     },
     "execution_count": 5,
     "metadata": {},
     "output_type": "execute_result"
    }
   ],
   "source": [
    "data.head()"
   ]
  },
  {
   "cell_type": "markdown",
   "metadata": {},
   "source": [
    "## obteniendo datos de Euronext"
   ]
  },
  {
   "cell_type": "code",
   "execution_count": 7,
   "metadata": {},
   "outputs": [],
   "source": [
    "data = quandl.get(\"EURONEXT/VTX\", authtoken=\"cFoxqYbXx2DmK9Y3KJkn\")"
   ]
  },
  {
   "cell_type": "code",
   "execution_count": 8,
   "metadata": {},
   "outputs": [
    {
     "data": {
      "text/html": [
       "<div>\n",
       "<style>\n",
       "    .dataframe thead tr:only-child th {\n",
       "        text-align: right;\n",
       "    }\n",
       "\n",
       "    .dataframe thead th {\n",
       "        text-align: left;\n",
       "    }\n",
       "\n",
       "    .dataframe tbody tr th {\n",
       "        vertical-align: top;\n",
       "    }\n",
       "</style>\n",
       "<table border=\"1\" class=\"dataframe\">\n",
       "  <thead>\n",
       "    <tr style=\"text-align: right;\">\n",
       "      <th></th>\n",
       "      <th>Open</th>\n",
       "      <th>High</th>\n",
       "      <th>Low</th>\n",
       "      <th>Last</th>\n",
       "      <th>Volume</th>\n",
       "      <th>Turnover</th>\n",
       "    </tr>\n",
       "    <tr>\n",
       "      <th>Date</th>\n",
       "      <th></th>\n",
       "      <th></th>\n",
       "      <th></th>\n",
       "      <th></th>\n",
       "      <th></th>\n",
       "      <th></th>\n",
       "    </tr>\n",
       "  </thead>\n",
       "  <tbody>\n",
       "    <tr>\n",
       "      <th>2018-05-30</th>\n",
       "      <td>13.406</td>\n",
       "      <td>13.990</td>\n",
       "      <td>12.00</td>\n",
       "      <td>12.838</td>\n",
       "      <td>450676.0</td>\n",
       "      <td>6290362.356</td>\n",
       "    </tr>\n",
       "    <tr>\n",
       "      <th>2018-05-31</th>\n",
       "      <td>12.520</td>\n",
       "      <td>12.960</td>\n",
       "      <td>12.32</td>\n",
       "      <td>12.320</td>\n",
       "      <td>5072.0</td>\n",
       "      <td>64524.026</td>\n",
       "    </tr>\n",
       "    <tr>\n",
       "      <th>2018-06-01</th>\n",
       "      <td>12.766</td>\n",
       "      <td>12.766</td>\n",
       "      <td>11.60</td>\n",
       "      <td>12.096</td>\n",
       "      <td>6436.0</td>\n",
       "      <td>77115.200</td>\n",
       "    </tr>\n",
       "    <tr>\n",
       "      <th>2018-06-04</th>\n",
       "      <td>11.980</td>\n",
       "      <td>12.168</td>\n",
       "      <td>11.30</td>\n",
       "      <td>11.550</td>\n",
       "      <td>6519.0</td>\n",
       "      <td>75774.988</td>\n",
       "    </tr>\n",
       "    <tr>\n",
       "      <th>2018-06-05</th>\n",
       "      <td>11.400</td>\n",
       "      <td>11.990</td>\n",
       "      <td>11.25</td>\n",
       "      <td>11.990</td>\n",
       "      <td>8185.0</td>\n",
       "      <td>95793.892</td>\n",
       "    </tr>\n",
       "  </tbody>\n",
       "</table>\n",
       "</div>"
      ],
      "text/plain": [
       "              Open    High    Low    Last    Volume     Turnover\n",
       "Date                                                            \n",
       "2018-05-30  13.406  13.990  12.00  12.838  450676.0  6290362.356\n",
       "2018-05-31  12.520  12.960  12.32  12.320    5072.0    64524.026\n",
       "2018-06-01  12.766  12.766  11.60  12.096    6436.0    77115.200\n",
       "2018-06-04  11.980  12.168  11.30  11.550    6519.0    75774.988\n",
       "2018-06-05  11.400  11.990  11.25  11.990    8185.0    95793.892"
      ]
     },
     "execution_count": 8,
     "metadata": {},
     "output_type": "execute_result"
    }
   ],
   "source": [
    "data.head()"
   ]
  },
  {
   "cell_type": "code",
   "execution_count": 10,
   "metadata": {},
   "outputs": [],
   "source": [
    "import matplotlib.pyplot as plt\n",
    "%matplotlib inline"
   ]
  },
  {
   "cell_type": "code",
   "execution_count": 12,
   "metadata": {},
   "outputs": [
    {
     "data": {
      "text/plain": [
       "<matplotlib.axes._subplots.AxesSubplot at 0x2ae00b66c88>"
      ]
     },
     "execution_count": 12,
     "metadata": {},
     "output_type": "execute_result"
    },
    {
     "data": {
      "image/png": "[encoded data removed]",
      "text/plain": [
       "<matplotlib.figure.Figure at 0x2ae00d83b00>"
      ]
     },
     "metadata": {
      "needs_background": "light"
     },
     "output_type": "display_data"
    }
   ],
   "source": [
    "data['Open'].plot()"
   ]
  },
  {
   "cell_type": "markdown",
   "metadata": {},
   "source": [
    "## datos de Zilow.  Incide de valor de M2"
   ]
  },
  {
   "cell_type": "code",
   "execution_count": 13,
   "metadata": {},
   "outputs": [],
   "source": [
    "data = quandl.get(\"ZILLOW/M1300_MPPRSF\", authtoken=\"cFoxqYbXx2DmK9Y3KJkn\")"
   ]
  },
  {
   "cell_type": "code",
   "execution_count": 14,
   "metadata": {},
   "outputs": [
    {
     "data": {
      "text/html": [
       "<div>\n",
       "<style>\n",
       "    .dataframe thead tr:only-child th {\n",
       "        text-align: right;\n",
       "    }\n",
       "\n",
       "    .dataframe thead th {\n",
       "        text-align: left;\n",
       "    }\n",
       "\n",
       "    .dataframe tbody tr th {\n",
       "        vertical-align: top;\n",
       "    }\n",
       "</style>\n",
       "<table border=\"1\" class=\"dataframe\">\n",
       "  <thead>\n",
       "    <tr style=\"text-align: right;\">\n",
       "      <th></th>\n",
       "      <th>Value</th>\n",
       "    </tr>\n",
       "    <tr>\n",
       "      <th>Date</th>\n",
       "      <th></th>\n",
       "    </tr>\n",
       "  </thead>\n",
       "  <tbody>\n",
       "    <tr>\n",
       "      <th>2010-09-30</th>\n",
       "      <td>5.002501</td>\n",
       "    </tr>\n",
       "    <tr>\n",
       "      <th>2010-10-31</th>\n",
       "      <td>5.272408</td>\n",
       "    </tr>\n",
       "    <tr>\n",
       "      <th>2010-11-30</th>\n",
       "      <td>5.072899</td>\n",
       "    </tr>\n",
       "    <tr>\n",
       "      <th>2010-12-31</th>\n",
       "      <td>4.972032</td>\n",
       "    </tr>\n",
       "    <tr>\n",
       "      <th>2011-01-31</th>\n",
       "      <td>5.049631</td>\n",
       "    </tr>\n",
       "  </tbody>\n",
       "</table>\n",
       "</div>"
      ],
      "text/plain": [
       "               Value\n",
       "Date                \n",
       "2010-09-30  5.002501\n",
       "2010-10-31  5.272408\n",
       "2010-11-30  5.072899\n",
       "2010-12-31  4.972032\n",
       "2011-01-31  5.049631"
      ]
     },
     "execution_count": 14,
     "metadata": {},
     "output_type": "execute_result"
    }
   ],
   "source": [
    "data.head()"
   ]
  },
  {
   "cell_type": "code",
   "execution_count": 15,
   "metadata": {},
   "outputs": [
    {
     "data": {
      "text/plain": [
       "<matplotlib.axes._subplots.AxesSubplot at 0x2ae00de4668>"
      ]
     },
     "execution_count": 15,
     "metadata": {},
     "output_type": "execute_result"
    },
    {
     "data": {
      "image/png": "[encoded data removed]",
      "text/plain": [
       "<matplotlib.figure.Figure at 0x2ae00e0ee48>"
      ]
     },
     "metadata": {
      "needs_background": "light"
     },
     "output_type": "display_data"
    }
   ],
   "source": [
    "data.plot()"
   ]
  },
  {
   "cell_type": "code",
   "execution_count": null,
   "metadata": {},
   "outputs": [],
   "source": []
  }
 ],
 "metadata": {
  "kernelspec": {
   "display_name": "Python 3",
   "language": "python",
   "name": "python3"
  },
  "language_info": {
   "codemirror_mode": {
    "name": "ipython",
    "version": 3
   },
   "file_extension": ".py",
   "mimetype": "text/x-python",
   "name": "python",
   "nbconvert_exporter": "python",
   "pygments_lexer": "ipython3",
   "version": "3.6.2"
  }
 },
 "nbformat": 4,
 "nbformat_minor": 2
}
